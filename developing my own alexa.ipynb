{
 "cells": [
  {
   "cell_type": "code",
   "execution_count": 1,
   "metadata": {},
   "outputs": [
    {
     "name": "stdout",
     "output_type": "stream",
     "text": [
      "Collecting SpeechRecognition\n",
      "  Using cached SpeechRecognition-3.8.1-py2.py3-none-any.whl (32.8 MB)\n",
      "Installing collected packages: SpeechRecognition\n",
      "Successfully installed SpeechRecognition-3.8.1\n"
     ]
    }
   ],
   "source": [
    "!pip install SpeechRecognition"
   ]
  },
  {
   "cell_type": "code",
   "execution_count": 2,
   "metadata": {},
   "outputs": [
    {
     "name": "stdout",
     "output_type": "stream",
     "text": [
      "Collecting pyttsx3\n",
      "  Using cached pyttsx3-2.90-py3-none-any.whl (39 kB)\n",
      "Requirement already satisfied: pywin32; platform_system == \"Windows\" in c:\\users\\pvsksiddhardha\\anaconda3\\envs\\vision\\lib\\site-packages (from pyttsx3) (227)\n",
      "Collecting pypiwin32; platform_system == \"Windows\"\n",
      "  Using cached pypiwin32-223-py3-none-any.whl (1.7 kB)\n",
      "Requirement already satisfied: comtypes; platform_system == \"Windows\" in c:\\users\\pvsksiddhardha\\anaconda3\\envs\\vision\\lib\\site-packages (from pyttsx3) (1.1.7)\n",
      "Installing collected packages: pypiwin32, pyttsx3\n",
      "Successfully installed pypiwin32-223 pyttsx3-2.90\n"
     ]
    }
   ],
   "source": [
    "!pip install pyttsx3"
   ]
  },
  {
   "cell_type": "code",
   "execution_count": 3,
   "metadata": {},
   "outputs": [
    {
     "name": "stdout",
     "output_type": "stream",
     "text": [
      "Collecting PyAudio\n",
      "  Downloading PyAudio-0.2.11-cp36-cp36m-win_amd64.whl (52 kB)\n",
      "Installing collected packages: PyAudio\n",
      "Successfully installed PyAudio-0.2.11\n"
     ]
    }
   ],
   "source": [
    "!pip install PyAudio"
   ]
  },
  {
   "cell_type": "code",
   "execution_count": 30,
   "metadata": {},
   "outputs": [
    {
     "name": "stdout",
     "output_type": "stream",
     "text": [
      "Collecting pywhatkit\n",
      "  Using cached pywhatkit-3.8-py3-none-any.whl (7.8 kB)\n",
      "Requirement already satisfied: beautifulsoup4 in c:\\users\\pvsksiddhardha\\anaconda3\\envs\\vision\\lib\\site-packages (from pywhatkit) (4.9.1)\n",
      "Collecting wikipedia\n",
      "  Using cached wikipedia-1.4.0.tar.gz (27 kB)\n",
      "Requirement already satisfied: requests in c:\\users\\pvsksiddhardha\\anaconda3\\envs\\vision\\lib\\site-packages (from pywhatkit) (2.24.0)\n",
      "Collecting pyautogui\n",
      "  Using cached PyAutoGUI-0.9.52.tar.gz (55 kB)\n",
      "Requirement already satisfied: Pillow in c:\\users\\pvsksiddhardha\\anaconda3\\envs\\vision\\lib\\site-packages (from pywhatkit) (7.2.0)\n",
      "Requirement already satisfied: soupsieve>1.2 in c:\\users\\pvsksiddhardha\\anaconda3\\envs\\vision\\lib\\site-packages (from beautifulsoup4->pywhatkit) (2.0.1)\n",
      "Requirement already satisfied: urllib3!=1.25.0,!=1.25.1,<1.26,>=1.21.1 in c:\\users\\pvsksiddhardha\\anaconda3\\envs\\vision\\lib\\site-packages (from requests->pywhatkit) (1.25.9)\n",
      "Requirement already satisfied: certifi>=2017.4.17 in c:\\users\\pvsksiddhardha\\anaconda3\\envs\\vision\\lib\\site-packages (from requests->pywhatkit) (2020.6.20)\n",
      "Requirement already satisfied: idna<3,>=2.5 in c:\\users\\pvsksiddhardha\\anaconda3\\envs\\vision\\lib\\site-packages (from requests->pywhatkit) (2.10)\n",
      "Requirement already satisfied: chardet<4,>=3.0.2 in c:\\users\\pvsksiddhardha\\anaconda3\\envs\\vision\\lib\\site-packages (from requests->pywhatkit) (3.0.4)\n",
      "Collecting pymsgbox\n",
      "  Using cached PyMsgBox-1.0.9.tar.gz (18 kB)\n",
      "  Installing build dependencies: started\n",
      "  Installing build dependencies: finished with status 'done'\n",
      "  Getting requirements to build wheel: started\n",
      "  Getting requirements to build wheel: finished with status 'done'\n",
      "    Preparing wheel metadata: started\n",
      "    Preparing wheel metadata: finished with status 'done'\n",
      "Collecting PyTweening>=1.0.1\n",
      "  Using cached PyTweening-1.0.3.zip (15 kB)\n",
      "Collecting pyscreeze>=0.1.21\n",
      "  Using cached PyScreeze-0.1.26.tar.gz (23 kB)\n",
      "Collecting pygetwindow>=0.0.5\n",
      "  Using cached PyGetWindow-0.0.9.tar.gz (9.7 kB)\n",
      "Collecting mouseinfo\n",
      "  Using cached MouseInfo-0.1.3.tar.gz (10 kB)\n",
      "Collecting pyrect\n",
      "  Using cached PyRect-0.1.4.tar.gz (15 kB)\n",
      "Collecting pyperclip\n",
      "  Using cached pyperclip-1.8.1.tar.gz (20 kB)\n",
      "Building wheels for collected packages: wikipedia, pyautogui, pymsgbox, PyTweening, pyscreeze, pygetwindow, mouseinfo, pyrect, pyperclip\n",
      "  Building wheel for wikipedia (setup.py): started\n",
      "  Building wheel for wikipedia (setup.py): finished with status 'done'\n",
      "  Created wheel for wikipedia: filename=wikipedia-1.4.0-py3-none-any.whl size=11689 sha256=0b41e62c05ae09b01ddac93ebf843d8851ef2e25cb4f6f1774a01a6497e6b3b3\n",
      "  Stored in directory: c:\\users\\pvsksiddhardha\\appdata\\local\\pip\\cache\\wheels\\e4\\26\\c3\\4f401d3e5c907d26a2c4ca8484141f02f7630c98fbcfd78a5e\n",
      "  Building wheel for pyautogui (setup.py): started\n",
      "  Building wheel for pyautogui (setup.py): finished with status 'done'\n",
      "  Created wheel for pyautogui: filename=PyAutoGUI-0.9.52-py3-none-any.whl size=35198 sha256=c434ff75e33462e4b657d4d12864e385bf4489bf04191432867711b0548e196a\n",
      "  Stored in directory: c:\\users\\pvsksiddhardha\\appdata\\local\\pip\\cache\\wheels\\4c\\b9\\d1\\425e8ebd27d4f700ba259b60eaa78235f924e52d79c1bd48cb\n",
      "  Building wheel for pymsgbox (PEP 517): started\n",
      "  Building wheel for pymsgbox (PEP 517): finished with status 'done'\n",
      "  Created wheel for pymsgbox: filename=PyMsgBox-1.0.9-py3-none-any.whl size=7420 sha256=3aa294cf02e314a9cbf468dfe4170b5fe28ba437338f5b08bf2af1b71db4fbf8\n",
      "  Stored in directory: c:\\users\\pvsksiddhardha\\appdata\\local\\pip\\cache\\wheels\\cd\\09\\9c\\c9d9b36b0a93555e8f47cb748f5c7455db76bf42ba4a14c35c\n",
      "  Building wheel for PyTweening (setup.py): started\n",
      "  Building wheel for PyTweening (setup.py): finished with status 'done'\n",
      "  Created wheel for PyTweening: filename=PyTweening-1.0.3-py3-none-any.whl size=3820 sha256=04d24d62ac9c2a155a77730e595b63f0b382418063633ebb5b58877e7d85c511\n",
      "  Stored in directory: c:\\users\\pvsksiddhardha\\appdata\\local\\pip\\cache\\wheels\\7a\\24\\bf\\10da4dbb90f0fe3613d4f912d7b94647b71b872df1c5b200b1\n",
      "  Building wheel for pyscreeze (setup.py): started\n",
      "  Building wheel for pyscreeze (setup.py): finished with status 'done'\n",
      "  Created wheel for pyscreeze: filename=PyScreeze-0.1.26-py3-none-any.whl size=11938 sha256=67ce0b14e744d7e91b4b9802d10a581d05708eb599705a4ccb9173be5dfbef25\n",
      "  Stored in directory: c:\\users\\pvsksiddhardha\\appdata\\local\\pip\\cache\\wheels\\43\\9d\\82\\7b9d42ea269cada2caf7edab61f8fa7a9f0abaa71e039083e6\n",
      "  Building wheel for pygetwindow (setup.py): started\n",
      "  Building wheel for pygetwindow (setup.py): finished with status 'done'\n",
      "  Created wheel for pygetwindow: filename=PyGetWindow-0.0.9-py3-none-any.whl size=11083 sha256=879a4b6bafd6ca0271c52426ec7b29f5565c599fcc575a79ff1fb3653ff19482\n",
      "  Stored in directory: c:\\users\\pvsksiddhardha\\appdata\\local\\pip\\cache\\wheels\\c8\\e3\\e3\\94f3a35a575d73fe9a14029bcc5207faa3db895d9410f3ce26\n",
      "  Building wheel for mouseinfo (setup.py): started\n",
      "  Building wheel for mouseinfo (setup.py): finished with status 'done'\n",
      "  Created wheel for mouseinfo: filename=MouseInfo-0.1.3-py3-none-any.whl size=10910 sha256=d311765bec6039aaf774944c20be1828f6d646041311775c5d69d8a40ae8d506\n",
      "  Stored in directory: c:\\users\\pvsksiddhardha\\appdata\\local\\pip\\cache\\wheels\\d2\\f1\\0e\\f52629592d78d60568fd6534519480a9228f4ae67eca353701\n",
      "  Building wheel for pyrect (setup.py): started\n",
      "  Building wheel for pyrect (setup.py): finished with status 'done'\n",
      "  Created wheel for pyrect: filename=PyRect-0.1.4-py2.py3-none-any.whl size=9552 sha256=638798c20feb4c044539f56988ef846db6e87df35f6849e7e1d27d20fbe83684\n",
      "  Stored in directory: c:\\users\\pvsksiddhardha\\appdata\\local\\pip\\cache\\wheels\\b5\\04\\91\\8c5ad51ed58ed4f248c8ffb2e7dffacb3820841b28209aa55d\n",
      "  Building wheel for pyperclip (setup.py): started\n",
      "  Building wheel for pyperclip (setup.py): finished with status 'done'\n",
      "  Created wheel for pyperclip: filename=pyperclip-1.8.1-py3-none-any.whl size=11124 sha256=755b731972708c991cec39b4bfeb0dfca86bfa4b0dfb185d3f32513a0c34b008\n",
      "  Stored in directory: c:\\users\\pvsksiddhardha\\appdata\\local\\pip\\cache\\wheels\\db\\27\\28\\fa23ac551b4fad562edc8d50a4ae1182f31408aae1d6027c39\n",
      "Successfully built wikipedia pyautogui pymsgbox PyTweening pyscreeze pygetwindow mouseinfo pyrect pyperclip\n",
      "Installing collected packages: wikipedia, pymsgbox, PyTweening, pyscreeze, pyrect, pygetwindow, pyperclip, mouseinfo, pyautogui, pywhatkit\n",
      "Successfully installed PyTweening-1.0.3 mouseinfo-0.1.3 pyautogui-0.9.52 pygetwindow-0.0.9 pymsgbox-1.0.9 pyperclip-1.8.1 pyrect-0.1.4 pyscreeze-0.1.26 pywhatkit-3.8 wikipedia-1.4.0\n"
     ]
    }
   ],
   "source": [
    "!pip install pywhatkit"
   ]
  },
  {
   "cell_type": "code",
   "execution_count": 2,
   "metadata": {},
   "outputs": [
    {
     "name": "stdout",
     "output_type": "stream",
     "text": [
      "i am on work\n"
     ]
    }
   ],
   "source": [
    "# ALEXA IS listening\n",
    "import speech_recognition as sr\n",
    "listening=sr.Recognizer()\n",
    "try:\n",
    "    with sr.Microphone() as source:\n",
    "        print('i am on work')\n",
    "        voice=listening.listen(source)\n",
    "        command=listening.recognize_google(voice)\n",
    "        command=command.lower()\n",
    "        if 'alexa' in command:\n",
    "            print(command)\n",
    "except:\n",
    "    pass"
   ]
  },
  {
   "cell_type": "code",
   "execution_count": 3,
   "metadata": {},
   "outputs": [],
   "source": [
    "# alexa response\n",
    "import pyttsx3\n",
    "mech=pyttsx3.init()\n",
    "# below 2 lines of code determine male or female voice if [1] female, [0] then male\n",
    "voices=mech.getProperty('voices')\n",
    "mech.setProperty('voice',voices[1].id)\n",
    "mech.say(\"hello sidd how can i help u\")\n",
    "mech.runAndWait()"
   ]
  },
  {
   "cell_type": "code",
   "execution_count": 6,
   "metadata": {},
   "outputs": [
    {
     "name": "stdout",
     "output_type": "stream",
     "text": [
      "i am on work\n"
     ]
    }
   ],
   "source": [
    "# creating a function repeating our words and calling it\n",
    "def speakup(matter):\n",
    "    mech=pyttsx3.init()\n",
    "    mech.say(matter)\n",
    "    mech.runAndWait()\n",
    "\n",
    "listening=sr.Recognizer()\n",
    "with sr.Microphone() as source:\n",
    "        print('i am on work')\n",
    "        matter=listening.listen(source)\n",
    "        command=listening.recognize_google(matter)\n",
    "        speakup(command)\n",
    "\n",
    "\n",
    "    \n",
    "        \n",
    "    \n",
    "        "
   ]
  },
  {
   "cell_type": "code",
   "execution_count": 11,
   "metadata": {},
   "outputs": [
    {
     "name": "stdout",
     "output_type": "stream",
     "text": [
      "i am on work\n"
     ]
    }
   ],
   "source": [
    "import pywhatkit\n",
    "import datetime\n",
    "import wikipedia\n",
    "def get_work():\n",
    "    listening=sr.Recognizer()\n",
    "    with sr.Microphone() as source:\n",
    "        print('i am on work')\n",
    "        matter=listening.listen(source)\n",
    "        command=listening.recognize_google(matter)\n",
    "        return command\n",
    "    \n",
    "def work_alexa():\n",
    "    command=get_work()\n",
    "    if 'play' in command:\n",
    "        song=command.replace('play','')\n",
    "        speakup('playing'+song)\n",
    "        pywhatkit.playonyt(song)\n",
    "    elif 'time'in command:\n",
    "        time=datetime.datetime.now().strftime('%H:%M')\n",
    "        print(time)\n",
    "        speakup(time)\n",
    "    elif 'Who the f is' in command:\n",
    "        content=command.replace('who the f is','')\n",
    "        info=wikipedia.summary(content,1)\n",
    "        speakup(info)\n",
    "        print(info)\n",
    "    elif 'message' in command:\n",
    "        msg=command.replace('message dad','')\n",
    "        pywhatkit.sendwhatmsg('+91 9440668034',msg,22,42)\n",
    "        speakup('messaged')\n",
    "        \n",
    "work_alexa()        \n",
    "        \n",
    "    "
   ]
  },
  {
   "cell_type": "code",
   "execution_count": 35,
   "metadata": {},
   "outputs": [
    {
     "name": "stdout",
     "output_type": "stream",
     "text": [
      "Requirement already satisfied: wikipedia in c:\\users\\pvsksiddhardha\\anaconda3\\envs\\vision\\lib\\site-packages (1.4.0)\n",
      "Requirement already satisfied: beautifulsoup4 in c:\\users\\pvsksiddhardha\\anaconda3\\envs\\vision\\lib\\site-packages (from wikipedia) (4.9.1)\n",
      "Requirement already satisfied: requests<3.0.0,>=2.0.0 in c:\\users\\pvsksiddhardha\\anaconda3\\envs\\vision\\lib\\site-packages (from wikipedia) (2.24.0)\n",
      "Requirement already satisfied: soupsieve>1.2 in c:\\users\\pvsksiddhardha\\anaconda3\\envs\\vision\\lib\\site-packages (from beautifulsoup4->wikipedia) (2.0.1)\n",
      "Requirement already satisfied: chardet<4,>=3.0.2 in c:\\users\\pvsksiddhardha\\anaconda3\\envs\\vision\\lib\\site-packages (from requests<3.0.0,>=2.0.0->wikipedia) (3.0.4)\n",
      "Requirement already satisfied: idna<3,>=2.5 in c:\\users\\pvsksiddhardha\\anaconda3\\envs\\vision\\lib\\site-packages (from requests<3.0.0,>=2.0.0->wikipedia) (2.10)\n",
      "Requirement already satisfied: urllib3!=1.25.0,!=1.25.1,<1.26,>=1.21.1 in c:\\users\\pvsksiddhardha\\anaconda3\\envs\\vision\\lib\\site-packages (from requests<3.0.0,>=2.0.0->wikipedia) (1.25.9)\n",
      "Requirement already satisfied: certifi>=2017.4.17 in c:\\users\\pvsksiddhardha\\anaconda3\\envs\\vision\\lib\\site-packages (from requests<3.0.0,>=2.0.0->wikipedia) (2020.6.20)\n"
     ]
    }
   ],
   "source": [
    "!pip install wikipedia"
   ]
  },
  {
   "cell_type": "code",
   "execution_count": null,
   "metadata": {},
   "outputs": [],
   "source": [
    "# this can whatsapp msg,say time,open youtube,wikipedia,\n",
    "# with few more simple changes we can even do mailing with python"
   ]
  }
 ],
 "metadata": {
  "kernelspec": {
   "display_name": "Python 3",
   "language": "python",
   "name": "python3"
  },
  "language_info": {
   "codemirror_mode": {
    "name": "ipython",
    "version": 3
   },
   "file_extension": ".py",
   "mimetype": "text/x-python",
   "name": "python",
   "nbconvert_exporter": "python",
   "pygments_lexer": "ipython3",
   "version": "3.8.3"
  }
 },
 "nbformat": 4,
 "nbformat_minor": 4
}
